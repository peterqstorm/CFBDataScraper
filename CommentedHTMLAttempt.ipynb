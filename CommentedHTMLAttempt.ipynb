{
 "cells": [
  {
   "cell_type": "code",
   "execution_count": 2,
   "metadata": {
    "collapsed": true
   },
   "outputs": [],
   "source": [
    "from urllib.request import Request,urlopen\n",
    "from bs4 import BeautifulSoup, Comment\n",
    "\n",
    "accessurl = 'https://www.sports-reference.com/cfb/schools/oklahoma-state/2016/gamelog/'\n",
    "req = Request(accessurl)\n",
    "link = urlopen(req)\n",
    "soup = BeautifulSoup(link, \"lxml\")\n",
    "\n",
    "comments=soup.find_all(string=lambda text:isinstance(text,Comment))\n",
    "for comment in comments:\n",
    "    comment=BeautifulSoup(str(comment), 'lxml')\n",
    "    defensive_log = comment.find('table') #search as ordinary tag\n",
    "    if defensive_log:\n",
    "        break"
   ]
  },
  {
   "cell_type": "code",
   "execution_count": 3,
   "metadata": {},
   "outputs": [
    {
     "name": "stdout",
     "output_type": "stream",
     "text": [
      "<class 'bs4.element.Tag'>\n"
     ]
    }
   ],
   "source": [
    "print(type(defensive_log))\n"
   ]
  },
  {
   "cell_type": "code",
   "execution_count": 4,
   "metadata": {},
   "outputs": [
    {
     "data": {
      "text/plain": [
       "'table'"
      ]
     },
     "execution_count": 4,
     "metadata": {},
     "output_type": "execute_result"
    }
   ],
   "source": [
    "defensive_log.name"
   ]
  },
  {
   "cell_type": "code",
   "execution_count": 26,
   "metadata": {
    "collapsed": true
   },
   "outputs": [],
   "source": [
    "defensive_data = []\n",
    "\n",
    "table = defensive_log\n",
    "table_body = table.find('tbody')\n",
    "\n",
    "rows = table_body.find_all('tr')\n",
    "for row in rows:\n",
    "    cols = row.find_all('td')\n",
    "    cols = [ele.text.strip() for ele in cols]\n",
    "    defensive_data.append([ele for ele in cols]) #if ele]) Add to Get rid of empty values"
   ]
  },
  {
   "cell_type": "code",
   "execution_count": 36,
   "metadata": {},
   "outputs": [
    {
     "name": "stdout",
     "output_type": "stream",
     "text": [
      "('Date', 'Home/Away', 'Opponent', 'Opp Pass Completion', 'Opp Pass Attempts', 'Opp Pass Compl Percent', 'Opp Pass Yards', 'Opp Pass TDs', 'Opp Rush Attempts', 'Opp Rush Yards', 'Opp Rush Yards per Attempt', 'Opp Rush TDs', 'Opp Total Offense Plays', 'Opp Total Offense Yards', 'Opp Offense Yards per Play', 'Opp First Downs via Pass', 'Opp First Downs via Rush', 'Opp First Downs via Penalty', 'Opp Total First Downs', 'Opp Total Penalties', 'Opp Total Penalty Yards', 'Opp Fumbles Lost', 'Opp Passing Interceptions', 'Opp Total Turnovers')\n",
      "[['2016-09-03', '', 'Southeastern Louisiana', 'W (61-7)', '4', '14', '28.6', '106', '0', '46', '97', '2.1', '1', '60', '203', '3.4', '4', '6', '2', '12', '6', '47', '4', '0', '4'], ['2016-09-10', '', 'Central Michigan', 'L (27-30)', '31', '43', '72.1', '368', '4', '26', '50', '1.9', '0', '69', '418', '6.1', '15', '6', '2', '23', '5', '60', '1', '1', '2'], ['2016-09-17', '', 'Pittsburgh', 'W (45-38)', '14', '30', '46.7', '237', '1', '54', '290', '5.4', '3', '84', '527', '6.3', '9', '12', '0', '21', '8', '73', '0', '1', '1'], ['2016-09-24', '@', 'Baylor', 'L (24-35)', '18', '28', '64.3', '387', '4', '37', '136', '3.7', '1', '65', '523', '8.0', '11', '8', '1', '20', '7', '70', '1', '1', '2'], ['2016-10-01', '', 'Texas', 'W (49-31)', '21', '33', '63.6', '239', '1', '49', '329', '6.7', '4', '82', '568', '6.9', '8', '16', '2', '26', '5', '39', '0', '1', '1'], ['2016-10-08', '', 'Iowa State', 'W (38-31)', '25', '44', '56.8', '283', '3', '42', '165', '3.9', '1', '86', '448', '5.2', '14', '9', '3', '26', '7', '41', '1', '2', '3'], ['2016-10-22', '@', 'Kansas', 'W (44-20)', '24', '40', '60.0', '250', '1', '33', '204', '6.2', '1', '73', '454', '6.2', '11', '8', '1', '20', '5', '46', '1', '2', '3'], ['2016-10-29', '', 'West Virginia', 'W (37-20)', '24', '39', '61.5', '212', '1', '41', '209', '5.1', '1', '80', '421', '5.3', '14', '12', '1', '27', '6', '46', '1', '2', '3'], ['2016-11-05', '@', 'Kansas State', 'W (43-37)', '12', '18', '66.7', '87', '0', '56', '345', '6.2', '4', '74', '432', '5.8', '5', '16', '3', '24', '4', '31', '0', '1', '1'], ['2016-11-12', '', 'Texas Tech', 'W (45-44)', '35', '52', '67.3', '376', '3', '44', '142', '3.2', '3', '96', '518', '5.4', '20', '9', '5', '34', '3', '15', '1', '0', '1'], ['2016-11-19', '@', 'Texas Christian', 'W (31-6)', '20', '33', '60.6', '198', '1', '39', '145', '3.7', '0', '72', '343', '4.8', '9', '7', '2', '18', '4', '49', '0', '2', '2'], ['2016-12-03', '@', 'Oklahoma', 'L (20-38)', '13', '19', '68.4', '288', '3', '52', '341', '6.6', '2', '71', '629', '8.9', '12', '11', '2', '25', '4', '54', '1', '0', '1'], ['2016-12-29', 'N', 'Colorado*', 'W (38-8)', '22', '38', '57.9', '256', '0', '29', '62', '2.1', '1', '67', '318', '4.7', '11', '6', '1', '18', '5', '35', '0', '1', '1']]\n"
     ]
    }
   ],
   "source": [
    "data_table_def_titles = (\n",
    "                    \"Date\",\n",
    "                    \"Home/Away\",\n",
    "                    \"Opponent\",\n",
    "                    \"Opp Pass Completion\",\n",
    "                    \"Opp Pass Attempts\",\n",
    "                    \"Opp Pass Compl Percent\",\n",
    "                    \"Opp Pass Yards\",\n",
    "                    \"Opp Pass TDs\",\n",
    "                    \"Opp Rush Attempts\",\n",
    "                    \"Opp Rush Yards\",\n",
    "                    \"Opp Rush Yards per Attempt\",\n",
    "                    \"Opp Rush TDs\",\n",
    "                    \"Opp Total Offense Plays\",\n",
    "                    \"Opp Total Offense Yards\",\n",
    "                    \"Opp Offense Yards per Play\",\n",
    "                    \"Opp First Downs via Pass\",\n",
    "                    \"Opp First Downs via Rush\",\n",
    "                    \"Opp First Downs via Penalty\",\n",
    "                    \"Opp Total First Downs\",\n",
    "                    \"Opp Total Penalties\",\n",
    "                    \"Opp Total Penalty Yards\",\n",
    "                    \"Opp Fumbles Lost\",\n",
    "                    \"Opp Passing Interceptions\",\n",
    "                    \"Opp Total Turnovers\"                    \n",
    ")\n",
    "print(data_table_def_titles)\n",
    "print(defensive_data)"
   ]
  },
  {
   "cell_type": "code",
   "execution_count": 25,
   "metadata": {
    "collapsed": true
   },
   "outputs": [],
   "source": [
    "okstate_defense = {}"
   ]
  },
  {
   "cell_type": "code",
   "execution_count": 39,
   "metadata": {},
   "outputs": [
    {
     "name": "stdout",
     "output_type": "stream",
     "text": [
      "['2016-09-03', '', 'Southeastern Louisiana', 'W (61-7)', '4', '14', '28.6', '106', '0', '46', '97', '2.1', '1', '60', '203', '3.4', '4', '6', '2', '12', '6', '47', '4', '0', '4']\n",
      "25\n",
      "['2016-09-10', '', 'Central Michigan', 'L (27-30)', '31', '43', '72.1', '368', '4', '26', '50', '1.9', '0', '69', '418', '6.1', '15', '6', '2', '23', '5', '60', '1', '1', '2']\n",
      "25\n",
      "['2016-09-17', '', 'Pittsburgh', 'W (45-38)', '14', '30', '46.7', '237', '1', '54', '290', '5.4', '3', '84', '527', '6.3', '9', '12', '0', '21', '8', '73', '0', '1', '1']\n",
      "25\n",
      "['2016-09-24', '@', 'Baylor', 'L (24-35)', '18', '28', '64.3', '387', '4', '37', '136', '3.7', '1', '65', '523', '8.0', '11', '8', '1', '20', '7', '70', '1', '1', '2']\n",
      "25\n",
      "['2016-10-01', '', 'Texas', 'W (49-31)', '21', '33', '63.6', '239', '1', '49', '329', '6.7', '4', '82', '568', '6.9', '8', '16', '2', '26', '5', '39', '0', '1', '1']\n",
      "25\n",
      "['2016-10-08', '', 'Iowa State', 'W (38-31)', '25', '44', '56.8', '283', '3', '42', '165', '3.9', '1', '86', '448', '5.2', '14', '9', '3', '26', '7', '41', '1', '2', '3']\n",
      "25\n",
      "['2016-10-22', '@', 'Kansas', 'W (44-20)', '24', '40', '60.0', '250', '1', '33', '204', '6.2', '1', '73', '454', '6.2', '11', '8', '1', '20', '5', '46', '1', '2', '3']\n",
      "25\n",
      "['2016-10-29', '', 'West Virginia', 'W (37-20)', '24', '39', '61.5', '212', '1', '41', '209', '5.1', '1', '80', '421', '5.3', '14', '12', '1', '27', '6', '46', '1', '2', '3']\n",
      "25\n",
      "['2016-11-05', '@', 'Kansas State', 'W (43-37)', '12', '18', '66.7', '87', '0', '56', '345', '6.2', '4', '74', '432', '5.8', '5', '16', '3', '24', '4', '31', '0', '1', '1']\n",
      "25\n",
      "['2016-11-12', '', 'Texas Tech', 'W (45-44)', '35', '52', '67.3', '376', '3', '44', '142', '3.2', '3', '96', '518', '5.4', '20', '9', '5', '34', '3', '15', '1', '0', '1']\n",
      "25\n",
      "['2016-11-19', '@', 'Texas Christian', 'W (31-6)', '20', '33', '60.6', '198', '1', '39', '145', '3.7', '0', '72', '343', '4.8', '9', '7', '2', '18', '4', '49', '0', '2', '2']\n",
      "25\n",
      "['2016-12-03', '@', 'Oklahoma', 'L (20-38)', '13', '19', '68.4', '288', '3', '52', '341', '6.6', '2', '71', '629', '8.9', '12', '11', '2', '25', '4', '54', '1', '0', '1']\n",
      "25\n",
      "['2016-12-29', 'N', 'Colorado*', 'W (38-8)', '22', '38', '57.9', '256', '0', '29', '62', '2.1', '1', '67', '318', '4.7', '11', '6', '1', '18', '5', '35', '0', '1', '1']\n",
      "25\n",
      "{'Date': '2016-09-03', 'Home/Away': '', 'Opponent': 'Southeastern Louisiana', 'Opp Pass Completion': 'W (61-7)', 'Opp Pass Attempts': '4', 'Opp Pass Compl Percent': '14', 'Opp Pass Yards': '28.6', 'Opp Pass TDs': '106', 'Opp Rush Attempts': '0', 'Opp Rush Yards': '46', 'Opp Rush Yards per Attempt': '97', 'Opp Rush TDs': '2.1', 'Opp Total Offense Plays': '1', 'Opp Total Offense Yards': '60', 'Opp Offense Yards per Play': '203', 'Opp First Downs via Pass': '3.4', 'Opp First Downs via Rush': '4', 'Opp First Downs via Penalty': '6', 'Opp Total First Downs': '2', 'Opp Total Penalties': '12', 'Opp Total Penalty Yards': '6', 'Opp Fumbles Lost': '47', 'Opp Passing Interceptions': '4', 'Opp Total Turnovers': '0', 'Southeastern Louisiana': ('Opp Total Turnovers', '0'), 'Central Michigan': ('Opp Total Turnovers', '1'), 'Pittsburgh': ('Opp Total Turnovers', '1'), 'Baylor': ('Opp Total Turnovers', '1'), 'Texas': ('Opp Total Turnovers', '1'), 'Iowa State': ('Opp Total Turnovers', '2'), 'Kansas': ('Opp Total Turnovers', '2'), 'West Virginia': ('Opp Total Turnovers', '2'), 'Kansas State': ('Opp Total Turnovers', '1'), 'Texas Tech': ('Opp Total Turnovers', '0'), 'Texas Christian': ('Opp Total Turnovers', '2'), 'Oklahoma': ('Opp Total Turnovers', '0'), 'Colorado*': ('Opp Total Turnovers', '1')}\n"
     ]
    }
   ],
   "source": [
    "for i in defensive_data:\n",
    "    print(i)\n",
    "    print(len(i))\n",
    "    \n",
    "    #Checking if home or away\n",
    "    if i[1] == \"@\":\n",
    "        home_Game = False\n",
    "    else:\n",
    "        home_Game = True   \n",
    "        \n",
    "    for j in range(len(i) - 1):\n",
    "        #need to correct for home or away\n",
    "        okstate_defense[i[2]] = (data_table_def_titles[j],i[j])\n",
    "print(okstate_defense)"
   ]
  },
  {
   "cell_type": "code",
   "execution_count": null,
   "metadata": {
    "collapsed": true
   },
   "outputs": [],
   "source": []
  }
 ],
 "metadata": {
  "kernelspec": {
   "display_name": "Python 3",
   "language": "python",
   "name": "python3"
  },
  "language_info": {
   "codemirror_mode": {
    "name": "ipython",
    "version": 3
   },
   "file_extension": ".py",
   "mimetype": "text/x-python",
   "name": "python",
   "nbconvert_exporter": "python",
   "pygments_lexer": "ipython3",
   "version": "3.6.1"
  }
 },
 "nbformat": 4,
 "nbformat_minor": 2
}
